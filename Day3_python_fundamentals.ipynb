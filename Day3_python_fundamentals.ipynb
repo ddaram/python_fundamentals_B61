{
 "cells": [
  {
   "cell_type": "code",
   "execution_count": 1,
   "id": "fb4f4601",
   "metadata": {},
   "outputs": [
    {
     "name": "stdout",
     "output_type": "stream",
     "text": [
      "vijaya laxmi\n"
     ]
    }
   ],
   "source": [
    "full_name = 'vijaya laxmi'\n",
    "\n",
    "print(full_name)"
   ]
  },
  {
   "cell_type": "code",
   "execution_count": 2,
   "id": "e203b5f1",
   "metadata": {},
   "outputs": [
    {
     "name": "stdout",
     "output_type": "stream",
     "text": [
      "Vijaya Laxmi\n"
     ]
    }
   ],
   "source": [
    "# full_name in Title Case\n",
    "\n",
    "print(full_name.title())"
   ]
  },
  {
   "cell_type": "code",
   "execution_count": 3,
   "id": "74a98f6b",
   "metadata": {},
   "outputs": [
    {
     "name": "stdout",
     "output_type": "stream",
     "text": [
      "VIJAYA LAXMI\n"
     ]
    }
   ],
   "source": [
    "# full_name in Upper Case\n",
    "\n",
    "print(full_name.upper())"
   ]
  },
  {
   "cell_type": "code",
   "execution_count": 4,
   "id": "b078b0a4",
   "metadata": {},
   "outputs": [
    {
     "name": "stdout",
     "output_type": "stream",
     "text": [
      "vijaya laxmi\n"
     ]
    }
   ],
   "source": [
    "#full_name in Lower Case\n",
    "\n",
    "print(full_name.lower())"
   ]
  },
  {
   "cell_type": "code",
   "execution_count": 5,
   "id": "6c24a951",
   "metadata": {},
   "outputs": [
    {
     "name": "stdout",
     "output_type": "stream",
     "text": [
      "Hello Vijaya Laxmi!\n"
     ]
    }
   ],
   "source": [
    "# f string\n",
    "\n",
    "first_name = 'Vijaya'\n",
    "last_name = 'Laxmi'\n",
    "\n",
    "Popup = f\"Hello {first_name} {last_name}!\"\n",
    "\n",
    "print(Popup)"
   ]
  },
  {
   "cell_type": "code",
   "execution_count": 6,
   "id": "ecb38745",
   "metadata": {},
   "outputs": [
    {
     "name": "stdout",
     "output_type": "stream",
     "text": [
      "Datatypes:StringsNumbersListsTuplesDictionaries\n"
     ]
    }
   ],
   "source": [
    "# Adding white spaces\n",
    "\n",
    "print('Datatypes:StringsNumbersListsTuplesDictionaries')"
   ]
  },
  {
   "cell_type": "code",
   "execution_count": 7,
   "id": "ca27209c",
   "metadata": {},
   "outputs": [
    {
     "name": "stdout",
     "output_type": "stream",
     "text": [
      "Datatypes:\n",
      "\tStrings\n",
      "\tNumbers\n",
      "\tLists\n",
      "\tTuples\n",
      "\tDictionaries\n"
     ]
    }
   ],
   "source": [
    "print('Datatypes:\\n\\tStrings\\n\\tNumbers\\n\\tLists\\n\\tTuples\\n\\tDictionaries')"
   ]
  },
  {
   "cell_type": "code",
   "execution_count": 8,
   "id": "6e3f3986",
   "metadata": {},
   "outputs": [
    {
     "name": "stdout",
     "output_type": "stream",
     "text": [
      "Vijaya      \n",
      "        Laxmi\n"
     ]
    }
   ],
   "source": [
    "# Removing whitespaces\n",
    "\n",
    "first_name = 'Vijaya      '\n",
    "last_name = '        Laxmi'\n",
    "\n",
    "print(first_name)\n",
    "print(last_name)"
   ]
  },
  {
   "cell_type": "code",
   "execution_count": 9,
   "id": "df60f30b",
   "metadata": {},
   "outputs": [
    {
     "name": "stdout",
     "output_type": "stream",
     "text": [
      "Vijaya\n"
     ]
    }
   ],
   "source": [
    "# Trim whitespaces(right side)\n",
    "\n",
    "print(first_name.rstrip())"
   ]
  },
  {
   "cell_type": "code",
   "execution_count": 10,
   "id": "8e008237",
   "metadata": {},
   "outputs": [
    {
     "name": "stdout",
     "output_type": "stream",
     "text": [
      "Laxmi\n"
     ]
    }
   ],
   "source": [
    "# Trim whitespaces(left side)\n",
    "\n",
    "print(last_name.lstrip())"
   ]
  },
  {
   "cell_type": "code",
   "execution_count": 11,
   "id": "a4ba08bb",
   "metadata": {},
   "outputs": [
    {
     "data": {
      "text/plain": [
       "'Vijaya'"
      ]
     },
     "execution_count": 11,
     "metadata": {},
     "output_type": "execute_result"
    }
   ],
   "source": [
    "first_name.rstrip()"
   ]
  },
  {
   "cell_type": "code",
   "execution_count": 12,
   "id": "dedc2bc5",
   "metadata": {},
   "outputs": [
    {
     "data": {
      "text/plain": [
       "'Laxmi'"
      ]
     },
     "execution_count": 12,
     "metadata": {},
     "output_type": "execute_result"
    }
   ],
   "source": [
    "last_name.lstrip()"
   ]
  },
  {
   "cell_type": "code",
   "execution_count": null,
   "id": "ba78dd40",
   "metadata": {},
   "outputs": [],
   "source": []
  }
 ],
 "metadata": {
  "kernelspec": {
   "display_name": "Python 3 (ipykernel)",
   "language": "python",
   "name": "python3"
  },
  "language_info": {
   "codemirror_mode": {
    "name": "ipython",
    "version": 3
   },
   "file_extension": ".py",
   "mimetype": "text/x-python",
   "name": "python",
   "nbconvert_exporter": "python",
   "pygments_lexer": "ipython3",
   "version": "3.9.7"
  }
 },
 "nbformat": 4,
 "nbformat_minor": 5
}
