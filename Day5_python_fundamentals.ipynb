{
 "cells": [
  {
   "cell_type": "code",
   "execution_count": 1,
   "id": "afedde36",
   "metadata": {},
   "outputs": [],
   "source": [
    "Programming_Languages = ['Python', 'JavaScript', 'SQL', 'HTML', 'Java', 'R']"
   ]
  },
  {
   "cell_type": "code",
   "execution_count": 2,
   "id": "aae232c1",
   "metadata": {},
   "outputs": [
    {
     "name": "stdout",
     "output_type": "stream",
     "text": [
      "['Python', 'JavaScript', 'SQL', 'HTML', 'Java', 'R']\n"
     ]
    }
   ],
   "source": [
    "print(Programming_Languages)"
   ]
  },
  {
   "cell_type": "code",
   "execution_count": 3,
   "id": "339f47e5",
   "metadata": {},
   "outputs": [
    {
     "data": {
      "text/plain": [
       "list"
      ]
     },
     "execution_count": 3,
     "metadata": {},
     "output_type": "execute_result"
    }
   ],
   "source": [
    "type(Programming_Languages)"
   ]
  },
  {
   "cell_type": "code",
   "execution_count": 4,
   "id": "c57a71ca",
   "metadata": {},
   "outputs": [
    {
     "data": {
      "text/plain": [
       "6"
      ]
     },
     "execution_count": 4,
     "metadata": {},
     "output_type": "execute_result"
    }
   ],
   "source": [
    "# Count of list\n",
    "\n",
    "len(Programming_Languages)"
   ]
  },
  {
   "cell_type": "code",
   "execution_count": 5,
   "id": "3595303f",
   "metadata": {},
   "outputs": [
    {
     "data": {
      "text/plain": [
       "['HTML', 'Java', 'JavaScript', 'Python', 'R', 'SQL']"
      ]
     },
     "execution_count": 5,
     "metadata": {},
     "output_type": "execute_result"
    }
   ],
   "source": [
    "# Organising the list (temporary approach)\n",
    "\n",
    "sorted(Programming_Languages)"
   ]
  },
  {
   "cell_type": "code",
   "execution_count": 6,
   "id": "d97ff092",
   "metadata": {},
   "outputs": [
    {
     "name": "stdout",
     "output_type": "stream",
     "text": [
      "['Python', 'JavaScript', 'SQL', 'HTML', 'Java', 'R']\n"
     ]
    }
   ],
   "source": [
    "print(Programming_Languages)"
   ]
  },
  {
   "cell_type": "code",
   "execution_count": 7,
   "id": "db5bf26a",
   "metadata": {},
   "outputs": [],
   "source": [
    "# Organising the list (permanent approach)\n",
    "\n",
    "Programming_Languages.sort()"
   ]
  },
  {
   "cell_type": "code",
   "execution_count": 8,
   "id": "1ef0661c",
   "metadata": {},
   "outputs": [
    {
     "name": "stdout",
     "output_type": "stream",
     "text": [
      "['HTML', 'Java', 'JavaScript', 'Python', 'R', 'SQL']\n"
     ]
    }
   ],
   "source": [
    "print(Programming_Languages)"
   ]
  },
  {
   "cell_type": "code",
   "execution_count": 9,
   "id": "18a65260",
   "metadata": {},
   "outputs": [
    {
     "name": "stdout",
     "output_type": "stream",
     "text": [
      "['HTML', 'Java', 'JavaScript', 'Python', 'R', 'SQL']\n"
     ]
    }
   ],
   "source": [
    "print(Programming_Languages)"
   ]
  },
  {
   "cell_type": "code",
   "execution_count": 10,
   "id": "7735f051",
   "metadata": {},
   "outputs": [],
   "source": [
    "# Reveresing the list\n",
    "\n",
    "Programming_Languages.reverse()"
   ]
  },
  {
   "cell_type": "code",
   "execution_count": 11,
   "id": "9284e6e5",
   "metadata": {},
   "outputs": [
    {
     "name": "stdout",
     "output_type": "stream",
     "text": [
      "['SQL', 'R', 'Python', 'JavaScript', 'Java', 'HTML']\n"
     ]
    }
   ],
   "source": [
    "print(Programming_Languages)"
   ]
  },
  {
   "cell_type": "code",
   "execution_count": 12,
   "id": "ee7f6ac7",
   "metadata": {},
   "outputs": [
    {
     "name": "stdout",
     "output_type": "stream",
     "text": [
      "['SQL', 'R', 'Python']\n"
     ]
    }
   ],
   "source": [
    "# Slicing the list\n",
    "\n",
    "print(Programming_Languages[0:3])"
   ]
  },
  {
   "cell_type": "code",
   "execution_count": 13,
   "id": "7a5a9181",
   "metadata": {},
   "outputs": [
    {
     "name": "stdout",
     "output_type": "stream",
     "text": [
      "['JavaScript', 'Java', 'HTML']\n"
     ]
    }
   ],
   "source": [
    "print(Programming_Languages[3:6])"
   ]
  },
  {
   "cell_type": "code",
   "execution_count": null,
   "id": "91bdaab8",
   "metadata": {},
   "outputs": [],
   "source": []
  }
 ],
 "metadata": {
  "kernelspec": {
   "display_name": "Python 3 (ipykernel)",
   "language": "python",
   "name": "python3"
  },
  "language_info": {
   "codemirror_mode": {
    "name": "ipython",
    "version": 3
   },
   "file_extension": ".py",
   "mimetype": "text/x-python",
   "name": "python",
   "nbconvert_exporter": "python",
   "pygments_lexer": "ipython3",
   "version": "3.9.7"
  }
 },
 "nbformat": 4,
 "nbformat_minor": 5
}
