{
 "cells": [
  {
   "cell_type": "code",
   "execution_count": 1,
   "id": "737f6035",
   "metadata": {},
   "outputs": [],
   "source": [
    "# List Datatype (Mutable)\n",
    "\n",
    "Programming_Languages = ['python', 'Javascript', 'Java', 'C', 'C++']"
   ]
  },
  {
   "cell_type": "code",
   "execution_count": 2,
   "id": "f3596074",
   "metadata": {},
   "outputs": [
    {
     "name": "stdout",
     "output_type": "stream",
     "text": [
      "['python', 'Javascript', 'Java', 'C', 'C++']\n"
     ]
    }
   ],
   "source": [
    "print(Programming_Languages)"
   ]
  },
  {
   "cell_type": "code",
   "execution_count": 3,
   "id": "f809d771",
   "metadata": {},
   "outputs": [
    {
     "data": {
      "text/plain": [
       "list"
      ]
     },
     "execution_count": 3,
     "metadata": {},
     "output_type": "execute_result"
    }
   ],
   "source": [
    "type(Programming_Languages)"
   ]
  },
  {
   "cell_type": "code",
   "execution_count": 4,
   "id": "9e343512",
   "metadata": {},
   "outputs": [
    {
     "data": {
      "text/plain": [
       "'python'"
      ]
     },
     "execution_count": 4,
     "metadata": {},
     "output_type": "execute_result"
    }
   ],
   "source": [
    "# indexing\n",
    "\n",
    "Programming_Languages[0]"
   ]
  },
  {
   "cell_type": "code",
   "execution_count": 5,
   "id": "5080d8fe",
   "metadata": {},
   "outputs": [
    {
     "data": {
      "text/plain": [
       "'C'"
      ]
     },
     "execution_count": 5,
     "metadata": {},
     "output_type": "execute_result"
    }
   ],
   "source": [
    "Programming_Languages[3]"
   ]
  },
  {
   "cell_type": "code",
   "execution_count": 6,
   "id": "3403f9cb",
   "metadata": {},
   "outputs": [
    {
     "name": "stdout",
     "output_type": "stream",
     "text": [
      "Python\n"
     ]
    }
   ],
   "source": [
    "# Printing 'python' programming language in title case\n",
    "\n",
    "print(Programming_Languages[0].title())"
   ]
  },
  {
   "cell_type": "code",
   "execution_count": 7,
   "id": "3ba995d7",
   "metadata": {},
   "outputs": [],
   "source": [
    "# Adding 'R' programming language to list\n",
    "\n",
    "Programming_Languages.append('R')"
   ]
  },
  {
   "cell_type": "code",
   "execution_count": 8,
   "id": "d060cf94",
   "metadata": {},
   "outputs": [
    {
     "name": "stdout",
     "output_type": "stream",
     "text": [
      "['python', 'Javascript', 'Java', 'C', 'C++', 'R']\n"
     ]
    }
   ],
   "source": [
    "print(Programming_Languages)"
   ]
  },
  {
   "cell_type": "code",
   "execution_count": 9,
   "id": "b89466eb",
   "metadata": {},
   "outputs": [],
   "source": [
    "# Adding 'SQL' to list at 3rd index\n",
    "\n",
    "Programming_Languages.insert(3, 'SQL')"
   ]
  },
  {
   "cell_type": "code",
   "execution_count": 10,
   "id": "3f1c9d16",
   "metadata": {},
   "outputs": [
    {
     "name": "stdout",
     "output_type": "stream",
     "text": [
      "['python', 'Javascript', 'Java', 'SQL', 'C', 'C++', 'R']\n"
     ]
    }
   ],
   "source": [
    "print(Programming_Languages)"
   ]
  },
  {
   "cell_type": "code",
   "execution_count": 11,
   "id": "b592d511",
   "metadata": {},
   "outputs": [],
   "source": [
    "# Modify 'Java' to 'HTML' in programming languages list\n",
    "\n",
    "Programming_Languages[2] = 'HTML'"
   ]
  },
  {
   "cell_type": "code",
   "execution_count": 12,
   "id": "3da12de8",
   "metadata": {},
   "outputs": [
    {
     "name": "stdout",
     "output_type": "stream",
     "text": [
      "['python', 'Javascript', 'HTML', 'SQL', 'C', 'C++', 'R']\n"
     ]
    }
   ],
   "source": [
    "print(Programming_Languages)"
   ]
  },
  {
   "cell_type": "code",
   "execution_count": null,
   "id": "6dc7721e",
   "metadata": {},
   "outputs": [],
   "source": []
  }
 ],
 "metadata": {
  "kernelspec": {
   "display_name": "Python 3 (ipykernel)",
   "language": "python",
   "name": "python3"
  },
  "language_info": {
   "codemirror_mode": {
    "name": "ipython",
    "version": 3
   },
   "file_extension": ".py",
   "mimetype": "text/x-python",
   "name": "python",
   "nbconvert_exporter": "python",
   "pygments_lexer": "ipython3",
   "version": "3.9.7"
  }
 },
 "nbformat": 4,
 "nbformat_minor": 5
}
